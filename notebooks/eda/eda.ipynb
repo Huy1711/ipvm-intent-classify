{
 "cells": [
  {
   "cell_type": "code",
   "execution_count": null,
   "metadata": {},
   "outputs": [],
   "source": [
    "import pandas as pd\n",
    "\n",
    "df = pd.read_csv(\"/Users/huynd/Downloads/labeled_data.csv\")"
   ]
  },
  {
   "cell_type": "code",
   "execution_count": null,
   "metadata": {},
   "outputs": [],
   "source": [
    "df.describe()"
   ]
  },
  {
   "cell_type": "code",
   "execution_count": null,
   "metadata": {},
   "outputs": [],
   "source": [
    "import matplotlib.pyplot as plt\n",
    "plt.bar(df.columns.to_list()[1:], df.sum().tolist()[1:])\n",
    "plt.show()"
   ]
  },
  {
   "cell_type": "code",
   "execution_count": null,
   "metadata": {},
   "outputs": [],
   "source": [
    "import matplotlib.pyplot as plt\n",
    "plt.pie(df.sum().tolist()[1:], labels=df.columns.to_list()[1:])\n",
    "plt.show()"
   ]
  },
  {
   "cell_type": "code",
   "execution_count": null,
   "metadata": {},
   "outputs": [],
   "source": [
    "data = []\n",
    "for index, row in df.iterrows():\n",
    "    text = row['question']\n",
    "    label = [key for key in row.keys() if row[key] == 1][0]\n",
    "    data.append({\"text\": text, \"label\": label})"
   ]
  },
  {
   "cell_type": "code",
   "execution_count": null,
   "metadata": {},
   "outputs": [],
   "source": [
    "import json\n",
    "with open(\"7k_sentences_train.jsonl\", \"w\") as f:\n",
    "    for sent in data:\n",
    "        f.write(json.dumps(sent) + \"\\n\")"
   ]
  },
  {
   "cell_type": "code",
   "execution_count": null,
   "metadata": {},
   "outputs": [],
   "source": [
    "import pandas as pd\n",
    "\n",
    "df = pd.read_csv(\"/Users/huynd/Downloads/validation_set.csv\")"
   ]
  },
  {
   "cell_type": "code",
   "execution_count": null,
   "metadata": {},
   "outputs": [],
   "source": [
    "data = []\n",
    "for index, row in df.iterrows():\n",
    "    text = row['question']\n",
    "    label = [key for key in row.keys() if row[key] == 1][0]\n",
    "    data.append({\"text\": text, \"label\": label})"
   ]
  },
  {
   "cell_type": "code",
   "execution_count": null,
   "metadata": {},
   "outputs": [],
   "source": [
    "import json\n",
    "with open(\"139_sentences_eval.jsonl\", \"w\") as f:\n",
    "    for sent in data:\n",
    "        f.write(json.dumps(sent) + \"\\n\")"
   ]
  },
  {
   "cell_type": "code",
   "execution_count": null,
   "metadata": {},
   "outputs": [],
   "source": [
    "eval_data = {\n",
    "    \"lookup_report\": [\n",
    "        \"Show me reports about Hikvision.\",\n",
    "        \"Find the article on Axis cameras.\",\n",
    "        \"Get me the latest post on cybersecurity.\",\n",
    "        \"Give me reports on cloud computing.\",\n",
    "        \"Where is the report about AI trends?\",\n",
    "        \"Fetch the post on video surveillance.\",\n",
    "        \"Find reports about IoT devices.\",\n",
    "        \"Show articles on machine learning.\",\n",
    "        \"Get the latest report on camera systems.\",\n",
    "        \"Get the latest post about facial recognition.\",\n",
    "        \"Find reports on video analytics.\",\n",
    "        \"Give me the article on AI ethics.\",\n",
    "    ],\n",
    "    \"account_help\": [\n",
    "        \"How do I reset my password?\",\n",
    "        \"I can't log in to my account. Can you help?\",\n",
    "        \"How do I update my email address?\",\n",
    "        \"My account has been locked. What should I do?\",\n",
    "        \"How can I change my account settings?\",\n",
    "        \"I need help recovering my account.\",\n",
    "        \"How do I delete my account?\",\n",
    "        \"Can you help me upgrade my subscription?\",\n",
    "        \"Why am I being charged for my account?\",\n",
    "        \"How do I manage my payment methods?\",\n",
    "    ],\n",
    "    \"lookup_person\": [\n",
    "        \"John Honovich\",\n",
    "        \"Aluiso Macintosh\",\n",
    "        \"Who is Sandy Jones?\",\n",
    "        \"What does Tom Cook specialize in?\",\n",
    "        \"Where is Fredrik Nilsson working now?\",\n",
    "        \"What's Hans Robertson's role at Verkada?\",\n",
    "        \"Is Pierre Racz still at Genetec?\",\n",
    "        \"What projects is Chuck Wilson leading?\",\n",
    "        \"What's James Rothstein's current position?\",\n",
    "        \"Where did John Stroia work before?\",\n",
    "        \"What is Scott Schafer known for?\",\n",
    "        \"Is Tom Galvin still involved in the industry?\",\n",
    "        \"What's Mike Mathes working on lately?\",\n",
    "    ],\n",
    "    \"troubleshoot_product\": [\n",
    "        \"How do I configure IP addresses on Axis cameras?\",\n",
    "        \"Why is my Hikvision camera not recording footage?\",\n",
    "        \"How do I install Genetec Security Center on a new server?\",\n",
    "        \"What's the best way to adjust focus on a Hanwha Techwin PTZ camera?\",\n",
    "        \"Why is my Dahua NVR not detecting connected cameras?\",\n",
    "        \"How do I troubleshoot Verkada camera connectivity issues?\",\n",
    "        \"How do I set up motion detection on a Bosch security camera?\",\n",
    "        \"How do I install a LenelS2 access control reader?\",\n",
    "        \"Why is my Avigilon system not displaying live video?\",\n",
    "        \"How do I reset passwords for Paxton Net2 access control?\",\n",
    "        \"Why isn't my Genetec AutoVu license plate recognition system working?\",\n",
    "        \"How do I configure door schedules in the Gallagher access control system?\",\n",
    "        \"How do I troubleshoot badge swipe issues on a Honeywell access reader?\",\n",
    "        \"What's the process for installing Milestone XProtect VMS?\",\n",
    "        \"How do I set up dual authentication on an HID Global access control panel?\",\n",
    "        \"Why isn't my Axis camera showing in the VMS?\",\n",
    "        \"How do I calibrate video analytics on a FLIR thermal camera?\",\n",
    "        \"What's the best way to install a door strike with a Brivo access system?\",\n",
    "        \"How do I configure remote access for a Mobotix camera?\",\n",
    "        \"How do I troubleshoot connection issues with an OpenPath access control system?\",\n",
    "    ],\n",
    "    \"general_information\": [\n",
    "        \"Pros and cons of Axis vs Hanwha\",\n",
    "        \"Quiz me about VSaaS\",\n",
    "        \"How did Verkada pick its business model?\",\n",
    "        \"Write me an email explaining the pros and cons of CEIA and Evolv\",\n",
    "        \"What are recent legal cases involving Flock\",\n",
    "        \"Limitations of Avigilon Unity\",\n",
    "        \"Single tenant cloud\",\n",
    "        \"What do I need to know about ZeroEyes?\",\n",
    "        \"Flipper zero for signal jamming\",\n",
    "        \"Who is Minuteman?\",\n",
    "        \"Who makes Bolide cameras?\",\n",
    "        \"What is a 'pooling layer'?\",\n",
    "        \"Just fix the one I wrote then\",\n",
    "        \"You have to say FOIA in there somewhere we used a FOIA\",\n",
    "        \"Yeah perfecto I can tweak that\",\n",
    "        \"What do you know about M.C. Dean?\",\n",
    "        \"How has the proportion of ZKTeco's overseas vs domestic sales evolved throughout the years?\",\n",
    "        \"JCI acquired Tyco\",\n",
    "        \"Resideo 2023 revenue?\",\n",
    "        \"Does Verkada give access to dealers like Alta does in terms of 'how' the reader communicates with the phone?\",\n",
    "        \"Do you know anything about HELIAUS by Allied Universal?\",\n",
    "        \"How is Dahua in the US operating now?\",\n",
    "        \"Verkada AD64\",\n",
    "        \"Axis Q1605\",\n",
    "        \"How big is G4S?\",\n",
    "        \"Wavelynx Accelerate\",\n",
    "        \"Does he have a position on AI?\",\n",
    "        \"Jones describes AI adoption as being in the 'early innings' - give me a direct quote\",\n",
    "        \"I am going to interview him about these statements, give me some important and critical questions to ask him, in order from simple to complex and thought-provoking\",\n",
    "    ]\n",
    "}"
   ]
  },
  {
   "cell_type": "code",
   "execution_count": null,
   "metadata": {},
   "outputs": [],
   "source": [
    "data = []\n",
    "for label, sentences in eval_data.items():\n",
    "    for sentence in sentences:\n",
    "        data.append({\"text\": sentence, \"label\": label})"
   ]
  },
  {
   "cell_type": "code",
   "execution_count": null,
   "metadata": {},
   "outputs": [],
   "source": [
    "import json\n",
    "with open(\"7k_sentences_eval.jsonl\", \"w\") as f:\n",
    "    for sent in data:\n",
    "        f.write(json.dumps(sent) + \"\\n\")"
   ]
  },
  {
   "cell_type": "code",
   "execution_count": null,
   "metadata": {},
   "outputs": [],
   "source": [
    "def load_dataset(filepath):\n",
    "    data = []\n",
    "    with open(filepath, \"r\") as f:\n",
    "        for line in f:\n",
    "            data.append(json.loads(line))\n",
    "    return data\n",
    "\n",
    "\n",
    "def convert_intent_label_to_id(data):\n",
    "    dataset = []\n",
    "    for sent in data:\n",
    "        dataset.append(\n",
    "            {\n",
    "                \"text\": sent[\"question\"].strip(),\n",
    "                \"label\": sent[\"router\"],\n",
    "            }\n",
    "        )\n",
    "    return dataset\n"
   ]
  },
  {
   "cell_type": "code",
   "execution_count": null,
   "metadata": {},
   "outputs": [],
   "source": [
    "dataset = load_dataset(\"/Users/huynd/Downloads/training_data.txt\")\n",
    "dataset =convert_intent_label_to_id(dataset)"
   ]
  },
  {
   "cell_type": "code",
   "execution_count": null,
   "metadata": {},
   "outputs": [],
   "source": [
    "len(dataset)"
   ]
  },
  {
   "cell_type": "code",
   "execution_count": null,
   "metadata": {},
   "outputs": [],
   "source": [
    "import json\n",
    "with open(\"8k_sentences_eval.jsonl\", \"w\") as f:\n",
    "    for sent in data:\n",
    "        f.write(json.dumps(sent) + \"\\n\")"
   ]
  }
 ],
 "metadata": {
  "kernelspec": {
   "display_name": "intent-classify",
   "language": "python",
   "name": "python3"
  },
  "language_info": {
   "codemirror_mode": {
    "name": "ipython",
    "version": 3
   },
   "file_extension": ".py",
   "mimetype": "text/x-python",
   "name": "python",
   "nbconvert_exporter": "python",
   "pygments_lexer": "ipython3",
   "version": "3.10.16"
  }
 },
 "nbformat": 4,
 "nbformat_minor": 2
}
