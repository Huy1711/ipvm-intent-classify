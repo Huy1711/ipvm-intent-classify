{
 "cells": [
  {
   "cell_type": "code",
   "execution_count": null,
   "metadata": {},
   "outputs": [],
   "source": [
    "import json\n",
    "\n",
    "with open(\"../../data/gpt_messages.json\", \"r\") as f:\n",
    "    messages = json.load(f)"
   ]
  },
  {
   "cell_type": "code",
   "execution_count": null,
   "metadata": {},
   "outputs": [],
   "source": [
    "print(f\"Total {len(messages)} sentences\")\n",
    "messages = set([message[\"content\"] for message in messages])\n",
    "print(f\"Total {len(messages)} sentences after dedup\")"
   ]
  },
  {
   "cell_type": "code",
   "execution_count": null,
   "metadata": {},
   "outputs": [],
   "source": [
    "import json\n",
    "with open(\"/Users/huynd/ipvm-intent-classify/data/14k_sentences_311224.jsonl\", \"w\") as f:\n",
    "    for sent in messages:\n",
    "        sent = sent.replace(\"\\n\", \" \").replace(\"\\r\", \" \").strip()\n",
    "        if len(sent.split()) > 1000:\n",
    "            continue\n",
    "        f.write(json.dumps({\"text\": sent}) + \"\\n\")"
   ]
  },
  {
   "cell_type": "markdown",
   "metadata": {},
   "source": [
    "## Relabel with confidence score threshold"
   ]
  },
  {
   "cell_type": "code",
   "execution_count": null,
   "metadata": {},
   "outputs": [],
   "source": [
    "import json\n",
    "\n",
    "def load_dataset(filepath):\n",
    "    data = []\n",
    "    with open(filepath, \"r\") as f:\n",
    "        for line in f:\n",
    "            data.append(json.loads(line))\n",
    "    return data"
   ]
  },
  {
   "cell_type": "code",
   "execution_count": null,
   "metadata": {},
   "outputs": [],
   "source": [
    "json_file = \"/Users/huynd/ipvm-intent-classify/data/14k_sentences_311224_preds.jsonl\"\n",
    "data = load_dataset(json_file)"
   ]
  },
  {
   "cell_type": "code",
   "execution_count": null,
   "metadata": {},
   "outputs": [],
   "source": [
    "low_confidence_data = [sent for sent in data if sent[\"score\"] < 0.9]\n",
    "len(low_confidence_data)"
   ]
  },
  {
   "cell_type": "code",
   "execution_count": null,
   "metadata": {},
   "outputs": [],
   "source": [
    "with open(\"455_sentences_relabel.txt\", \"w\") as f:\n",
    "    for sent in low_confidence_data:\n",
    "        f.write(sent[\"text\"] + \"\\n\")"
   ]
  },
  {
   "cell_type": "code",
   "execution_count": null,
   "metadata": {},
   "outputs": [],
   "source": [
    "import json\n",
    "with open(\"455_sentences_relabel.jsonl\", \"w\") as f:\n",
    "    for sent in low_confidence_data:\n",
    "        f.write(json.dumps(sent) + \"\\n\")"
   ]
  },
  {
   "cell_type": "markdown",
   "metadata": {},
   "source": [
    "## Process labeled data from Sagemaker GT manifest file"
   ]
  },
  {
   "cell_type": "code",
   "execution_count": null,
   "metadata": {},
   "outputs": [],
   "source": [
    "import json\n",
    "\n",
    "def load_dataset(filepath):\n",
    "    data = []\n",
    "    with open(filepath, \"r\") as f:\n",
    "        for line in f:\n",
    "            data.append(json.loads(line))\n",
    "    return data"
   ]
  },
  {
   "cell_type": "code",
   "execution_count": null,
   "metadata": {},
   "outputs": [],
   "source": [
    "filepath = \"/Users/huynd/ipvm-intent-classify/data/sagemaker_445.jsonl\"\n",
    "data = load_dataset(filepath)"
   ]
  },
  {
   "cell_type": "code",
   "execution_count": null,
   "metadata": {},
   "outputs": [],
   "source": [
    "labeled_data = []\n",
    "for sent in data:\n",
    "    labeled_data.append({\"text\": sent[\"source\"], \"label\": sent[\"intent-classify-label-010125-metadata\"][\"class-name\"]})"
   ]
  },
  {
   "cell_type": "code",
   "execution_count": null,
   "metadata": {},
   "outputs": [],
   "source": [
    "import json\n",
    "with open(\"455_sentences_labeled.jsonl\", \"w\") as f:\n",
    "    for sent in labeled_data:\n",
    "        f.write(json.dumps(sent) + \"\\n\")"
   ]
  },
  {
   "cell_type": "markdown",
   "metadata": {},
   "source": [
    "## Combine model prediction with relabeled set"
   ]
  },
  {
   "cell_type": "code",
   "execution_count": null,
   "metadata": {},
   "outputs": [],
   "source": [
    "import json\n",
    "\n",
    "def load_dataset(filepath):\n",
    "    data = []\n",
    "    with open(filepath, \"r\") as f:\n",
    "        for line in f:\n",
    "            data.append(json.loads(line))\n",
    "    return data"
   ]
  },
  {
   "cell_type": "code",
   "execution_count": null,
   "metadata": {},
   "outputs": [],
   "source": [
    "model_preds_file = \"/Users/huynd/ipvm-intent-classify/data/14k_sentences_311224_preds.jsonl\"\n",
    "relabeled_file = \"/Users/huynd/ipvm-intent-classify/data/455_sentences_labeled.jsonl\"\n",
    "\n",
    "preds_data = load_dataset(model_preds_file)\n",
    "labeled_data = load_dataset(relabeled_file)"
   ]
  },
  {
   "cell_type": "code",
   "execution_count": null,
   "metadata": {},
   "outputs": [],
   "source": [
    "data_dict = {data[\"text\"]: data[\"pred\"] for data in preds_data}"
   ]
  },
  {
   "cell_type": "code",
   "execution_count": null,
   "metadata": {},
   "outputs": [],
   "source": [
    "for sent in labeled_data:\n",
    "    data_dict[sent[\"text\"]] = sent[\"label\"]"
   ]
  },
  {
   "cell_type": "code",
   "execution_count": null,
   "metadata": {},
   "outputs": [],
   "source": [
    "import json\n",
    "with open(\"14k_sentences_train.jsonl\", \"w\") as f:\n",
    "    for text, label in data_dict.items():\n",
    "        if label == \"remove\":\n",
    "            continue\n",
    "        f.write(json.dumps({\"text\": text, \"label\": label}) + \"\\n\")"
   ]
  },
  {
   "cell_type": "markdown",
   "metadata": {},
   "source": [
    "## Randomly sample major class"
   ]
  },
  {
   "cell_type": "code",
   "execution_count": 1,
   "metadata": {},
   "outputs": [
    {
     "data": {
      "text/plain": [
       "14351"
      ]
     },
     "execution_count": 1,
     "metadata": {},
     "output_type": "execute_result"
    }
   ],
   "source": [
    "import json\n",
    "\n",
    "def load_dataset(filepath):\n",
    "    data = []\n",
    "    with open(filepath, \"r\") as f:\n",
    "        for line in f:\n",
    "            data.append(json.loads(line))\n",
    "    return data\n",
    "\n",
    "filepath = \"/Users/huynd/ipvm-intent-classify/data/14k_sentences_train.jsonl\"\n",
    "data = load_dataset(filepath)\n",
    "len(data)"
   ]
  },
  {
   "cell_type": "code",
   "execution_count": 2,
   "metadata": {},
   "outputs": [
    {
     "data": {
      "text/plain": [
       "12910"
      ]
     },
     "execution_count": 2,
     "metadata": {},
     "output_type": "execute_result"
    }
   ],
   "source": [
    "not_general_info_data = [sent for sent in data if sent[\"label\"] != \"general_information\"]\n",
    "general_info_data = [sent for sent in data if sent[\"label\"] == \"general_information\"]\n",
    "len(general_info_data)"
   ]
  },
  {
   "cell_type": "code",
   "execution_count": 3,
   "metadata": {},
   "outputs": [],
   "source": [
    "import random\n",
    "random_data = random.sample(general_info_data, 6000)"
   ]
  },
  {
   "cell_type": "code",
   "execution_count": 4,
   "metadata": {},
   "outputs": [
    {
     "data": {
      "text/plain": [
       "7441"
      ]
     },
     "execution_count": 4,
     "metadata": {},
     "output_type": "execute_result"
    }
   ],
   "source": [
    "final_data = not_general_info_data + random_data\n",
    "len(final_data)"
   ]
  },
  {
   "cell_type": "code",
   "execution_count": 5,
   "metadata": {},
   "outputs": [],
   "source": [
    "import json\n",
    "with open(\"7k4_sentences_train_010125.jsonl\", \"w\") as f:\n",
    "    for sent in final_data:\n",
    "        f.write(json.dumps(sent) + \"\\n\")"
   ]
  }
 ],
 "metadata": {
  "kernelspec": {
   "display_name": "intent-classify",
   "language": "python",
   "name": "python3"
  },
  "language_info": {
   "codemirror_mode": {
    "name": "ipython",
    "version": 3
   },
   "file_extension": ".py",
   "mimetype": "text/x-python",
   "name": "python",
   "nbconvert_exporter": "python",
   "pygments_lexer": "ipython3",
   "version": "3.10.16"
  }
 },
 "nbformat": 4,
 "nbformat_minor": 2
}
